{
 "cells": [
  {
   "cell_type": "markdown",
   "id": "84988f2c",
   "metadata": {},
   "source": [
    "# My Python Tips"
   ]
  },
  {
   "cell_type": "markdown",
   "id": "a594f495",
   "metadata": {},
   "source": [
    "1.for i, n in enumerate(nums)\n",
    "enumerate中i是序列号，n就是把nums自动分开了，直接只用用n， 不需要用nums[i]来表示n"
   ]
  },
  {
   "cell_type": "markdown",
   "id": "1855f03b",
   "metadata": {},
   "source": [
    "2.当string < 2的时候，不需要做特殊处理，可以直接把len(nums) < 2直接赋值，可以避免边缘case"
   ]
  },
  {
   "cell_type": "markdown",
   "id": "1fd37b3b",
   "metadata": {},
   "source": [
    "3.当处理string的时候，不一定一定要用string.split(), 可以直接for c in string, c就是一个char的形式，来一个个处理字符，再用\"\".join拼接起来，比较好处理特殊字符"
   ]
  },
  {
   "cell_type": "markdown",
   "id": "bc23ab76",
   "metadata": {},
   "source": [
    "4.lowerstr = ''.join([c.lower() if c.isalnum() else ' ' for c in paragraph])非常精彩的一句，结合第三条来看，把paragraph这个string变成一个个char的形式，看看是不是字符和数字， isalnum()检查是不是字符或者数字，[A-Z][a-z][0-9]，不是这些的话就是特殊字符，直接空格代替，之后再变成lower case"
   ]
  },
  {
   "cell_type": "markdown",
   "id": "d309c0dc",
   "metadata": {},
   "source": []
  }
 ],
 "metadata": {
  "kernelspec": {
   "display_name": "Python 3 (ipykernel)",
   "language": "python",
   "name": "python3"
  },
  "language_info": {
   "codemirror_mode": {
    "name": "ipython",
    "version": 3
   },
   "file_extension": ".py",
   "mimetype": "text/x-python",
   "name": "python",
   "nbconvert_exporter": "python",
   "pygments_lexer": "ipython3",
   "version": "3.9.7"
  }
 },
 "nbformat": 4,
 "nbformat_minor": 5
}
