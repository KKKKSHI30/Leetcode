{
 "cells": [
  {
   "cell_type": "markdown",
   "id": "5028e397",
   "metadata": {},
   "source": [
    "# My Python Tips"
   ]
  },
  {
   "cell_type": "markdown",
   "id": "93f50aa8",
   "metadata": {},
   "source": [
    "### Arrays and Strings"
   ]
  },
  {
   "cell_type": "markdown",
   "id": "4fd92d4b",
   "metadata": {},
   "source": [
    "1.for i, n in enumerate(nums)\n",
    "enumerate中i是序列号，n就是把nums自动分开了，直接只用用n， 不需要用nums[i]来表示n"
   ]
  },
  {
   "cell_type": "markdown",
   "id": "c20c52f0",
   "metadata": {},
   "source": [
    "2.当string < 2的时候，不需要做特殊处理，可以直接把len(nums) < 2直接赋值，可以避免边缘case"
   ]
  },
  {
   "cell_type": "markdown",
   "id": "a3385cd5",
   "metadata": {},
   "source": [
    "3.当处理string的时候，不一定一定要用string.split(), 可以直接for c in string, c就是一个char的形式，来一个个处理字符，再用\"\".join拼接起来，比较好处理特殊字符"
   ]
  },
  {
   "cell_type": "markdown",
   "id": "c0779e42",
   "metadata": {},
   "source": [
    "4.lowerstr = ''.join([c.lower() if c.isalnum() else ' ' for c in paragraph])非常精彩的一句，结合第三条来看，把paragraph这个string变成一个个char的形式，看看是不是字符和数字， isalnum()检查是不是字符或者数字，[A-Z][a-z][0-9]，不是这些的话就是特殊字符，直接空格代替，之后再变成lower case"
   ]
  },
  {
   "cell_type": "markdown",
   "id": "f98a2671",
   "metadata": {},
   "source": [
    "5.灵活使用set,相当于bash里的uniq了，排除重复的东西"
   ]
  },
  {
   "cell_type": "markdown",
   "id": "8b3af367",
   "metadata": {},
   "source": [
    "6.for word, freq in wordfreq.items():这个wordfreq是个字典，word代表前面的， freq代表后面的，可以直接列出来，比较方便"
   ]
  },
  {
   "cell_type": "markdown",
   "id": "f1735bc3",
   "metadata": {},
   "source": [
    "7.string.index(\"c\")可以直接定位到这个\"c\"在string中是第几个字符，可以直接拿到数字，不用做分割什么的"
   ]
  },
  {
   "cell_type": "markdown",
   "id": "f914a8d4",
   "metadata": {},
   "source": [
    "8.logs.sort(cmp = compare)  这个cmp就是比较器的概念， 如果是return大于0，就是前面的大，如果return 小于0， 就是后面的大，如果等于0，就是一样大， 比如，可以定义这样一个比较器def compare(s1, s2)"
   ]
  },
  {
   "cell_type": "markdown",
   "id": "1e372761",
   "metadata": {},
   "source": [
    "9.condition ? a : b可以用， condition如果true了执行a，不然执行b，写的简洁一点"
   ]
  },
  {
   "cell_type": "markdown",
   "id": "3b5b3904",
   "metadata": {},
   "source": [
    "10. Trapping Rain Water使用动态规划，拿到每一个点左边最高的点，每一个点右边最高的点，对于每一个点来说，右边和左边的差值减去这个本身的高度就是trapping rain water；第二方法， 用stack存indices；第三方法，用doubel pointer，从左到右，从右到左记录"
   ]
  },
  {
   "cell_type": "markdown",
   "id": "9a484e0c",
   "metadata": {},
   "source": [
    "### Linked Lists"
   ]
  },
  {
   "cell_type": "markdown",
   "id": "046d5932",
   "metadata": {},
   "source": [
    "1.当True False的时候，可以考虑用0，1代替，省略if else等繁琐过程"
   ]
  },
  {
   "cell_type": "markdown",
   "id": "91e39f25",
   "metadata": {},
   "source": [
    "2.合并项可以考虑放到所有if else的最后，如果所有case都适用的话"
   ]
  },
  {
   "cell_type": "markdown",
   "id": "f9b6ad4d",
   "metadata": {},
   "source": [
    "3.Linked List两个的时候，一个不存在的时候，可以用0来代替省略"
   ]
  },
  {
   "cell_type": "markdown",
   "id": "55668bca",
   "metadata": {},
   "source": [
    "4.加法要进位的时候，可以考虑//10来节省空间"
   ]
  },
  {
   "cell_type": "markdown",
   "id": "d3d2a97f",
   "metadata": {},
   "source": [
    "5.大的问题包含小的问题，可以再写一个def，比如Reverse link是很基础的function，可以直接修改调用，非常方便快捷"
   ]
  },
  {
   "cell_type": "markdown",
   "id": "b1687b06",
   "metadata": {},
   "source": [
    "6.标准答案啊，背住吧，reverseLinkedList\n",
    "class Solution:\n",
    "    def reverseList(self, head: ListNode) -> ListNode:\n",
    "        prev = None\n",
    "        curr = head\n",
    "        while curr:\n",
    "            next_temp = curr.next\n",
    "            curr.next = prev\n",
    "            prev = curr\n",
    "            curr = next_temp\n",
    "        return prev"
   ]
  },
  {
   "cell_type": "markdown",
   "id": "6a86281e",
   "metadata": {},
   "source": [
    "### Tree"
   ]
  },
  {
   "cell_type": "markdown",
   "id": "91b229b7",
   "metadata": {},
   "source": [
    "1. 先序排列，中左右, 中序排列，左中右, 后序排列，左右中"
   ]
  },
  {
   "cell_type": "markdown",
   "id": "dcf0e6ec",
   "metadata": {},
   "source": [
    "2. 所有树都可以被中序切割, 这是中序排列的非递归方式；从头一直循环到最左，所有都压进去；弹出一个，对他的右节点，也把所有左节点都压进去"
   ]
  },
  {
   "cell_type": "markdown",
   "id": "0b0cc7a5",
   "metadata": {},
   "source": [
    "3. 非递归的先序和后序排列很类似， 后序就是把前序排列放到堆里左右顺序变一下，然后倒一下"
   ]
  },
  {
   "cell_type": "markdown",
   "id": "e90ed093",
   "metadata": {},
   "source": [
    "4. BFS是用队列的形式， DFS都是用堆的形式"
   ]
  },
  {
   "cell_type": "markdown",
   "id": "9f2979f5",
   "metadata": {},
   "source": [
    "5. 判断一棵树是不是搜索二叉树，第一种方法，看中序遍历是不是从小到大;第二种方法，从左树要最大和从右树要最小，二叉树套路算法"
   ]
  },
  {
   "cell_type": "markdown",
   "id": "79a113bd",
   "metadata": {},
   "source": [
    "6. 判断一棵树是不是完全二叉树，用广度搜索，看是不是有了缺叶的节点后，之后都是叶节点，并且有右没有左的情况是错的"
   ]
  },
  {
   "cell_type": "markdown",
   "id": "25ad5abd",
   "metadata": {},
   "source": [
    "7. 判断一棵树是不是满二叉树，可以看深度和节点个数的关系"
   ]
  },
  {
   "cell_type": "markdown",
   "id": "5d29222f",
   "metadata": {},
   "source": [
    "8. 判断一棵树是不是平衡二叉树，左子树和右子树最多相差1；可以用递归套路解，让左右两边都返回，max和height"
   ]
  },
  {
   "cell_type": "markdown",
   "id": "0ea0c411",
   "metadata": {},
   "source": [
    "9. LC 103: ZigZag Tree可以用deque解决，关键是可以设置一个level map来记录，每一个level map是一个deque,看是从左边加还是从右边加，还有一个重点是deliminator,要分隔，比如弄个None，来确认是下一层了， 第一层的话，直接root node + None就可以啦\n",
    "优化版，可以不用分隔符，直接用每层的长度就可以了，下一层就会循环几个点"
   ]
  },
  {
   "cell_type": "markdown",
   "id": "dafb5248",
   "metadata": {},
   "source": [
    "10. LC 103: ZigZag Tree的dfs方法也是用deque解决，在遍历的时候把每一层的节点都记录下来，如果是奇数层就appendleft,偶数层就appendright，输出可以直接输出"
   ]
  },
  {
   "cell_type": "markdown",
   "id": "9b6490b8",
   "metadata": {},
   "source": [
    "11. LC200:Number of islands: 把小岛的1直接当成没检查过得，省事，还有在判断的时候，可以先都丢到堆了去，再检查，会方便一点，不过也看情况；活用deque的pop, popleft, append, appendleft, count, extend, extendleft;弄小岛的时候一个个遍历"
   ]
  },
  {
   "cell_type": "markdown",
   "id": "f03912db",
   "metadata": {},
   "source": []
  }
 ],
 "metadata": {
  "kernelspec": {
   "display_name": "Python 3 (ipykernel)",
   "language": "python",
   "name": "python3"
  },
  "language_info": {
   "codemirror_mode": {
    "name": "ipython",
    "version": 3
   },
   "file_extension": ".py",
   "mimetype": "text/x-python",
   "name": "python",
   "nbconvert_exporter": "python",
   "pygments_lexer": "ipython3",
   "version": "3.9.12"
  }
 },
 "nbformat": 4,
 "nbformat_minor": 5
}
