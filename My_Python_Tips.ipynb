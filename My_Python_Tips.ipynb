{
 "cells": [
  {
   "cell_type": "markdown",
   "id": "5028e397",
   "metadata": {},
   "source": [
    "# My Python Tips"
   ]
  },
  {
   "cell_type": "markdown",
   "id": "93f50aa8",
   "metadata": {},
   "source": [
    "### Arrays and Strings"
   ]
  },
  {
   "cell_type": "markdown",
   "id": "4fd92d4b",
   "metadata": {},
   "source": [
    "1.for i, n in enumerate(nums)\n",
    "enumerate中i是序列号，n就是把nums自动分开了，直接只用用n， 不需要用nums[i]来表示n"
   ]
  },
  {
   "cell_type": "markdown",
   "id": "c20c52f0",
   "metadata": {},
   "source": [
    "2.当string < 2的时候，不需要做特殊处理，可以直接把len(nums) < 2直接赋值，可以避免边缘case"
   ]
  },
  {
   "cell_type": "markdown",
   "id": "a3385cd5",
   "metadata": {},
   "source": [
    "3.当处理string的时候，不一定一定要用string.split(), 可以直接for c in string, c就是一个char的形式，来一个个处理字符，再用\"\".join拼接起来，比较好处理特殊字符"
   ]
  },
  {
   "cell_type": "markdown",
   "id": "c0779e42",
   "metadata": {},
   "source": [
    "4.lowerstr = ''.join([c.lower() if c.isalnum() else ' ' for c in paragraph])非常精彩的一句，结合第三条来看，把paragraph这个string变成一个个char的形式，看看是不是字符和数字， isalnum()检查是不是字符或者数字，[A-Z][a-z][0-9]，不是这些的话就是特殊字符，直接空格代替，之后再变成lower case"
   ]
  },
  {
   "cell_type": "markdown",
   "id": "f98a2671",
   "metadata": {},
   "source": [
    "5.灵活使用set,相当于bash里的uniq了，排除重复的东西"
   ]
  },
  {
   "cell_type": "markdown",
   "id": "8b3af367",
   "metadata": {},
   "source": [
    "6.for word, freq in wordfreq.items():这个wordfreq是个字典，word代表前面的， freq代表后面的，可以直接列出来，比较方便"
   ]
  },
  {
   "cell_type": "markdown",
   "id": "f1735bc3",
   "metadata": {},
   "source": [
    "7.string.index(\"c\")可以直接定位到这个\"c\"在string中是第几个字符，可以直接拿到数字，不用做分割什么的"
   ]
  },
  {
   "cell_type": "markdown",
   "id": "f914a8d4",
   "metadata": {},
   "source": [
    "8.logs.sort(cmp = compare)  这个cmp就是比较器的概念， 如果是return大于0，就是前面的大，如果return 小于0， 就是后面的大，如果等于0，就是一样大， 比如，可以定义这样一个比较器def compare(s1, s2)"
   ]
  },
  {
   "cell_type": "markdown",
   "id": "1e372761",
   "metadata": {},
   "source": [
    "9.condition ? a : b可以用， condition如果true了执行a，不然执行b，写的简洁一点"
   ]
  },
  {
   "cell_type": "markdown",
   "id": "9a484e0c",
   "metadata": {},
   "source": [
    "### Linked Lists"
   ]
  },
  {
   "cell_type": "markdown",
   "id": "046d5932",
   "metadata": {},
   "source": [
    "1.当True False的时候，可以考虑用0，1代替，省略if else等繁琐过程"
   ]
  },
  {
   "cell_type": "markdown",
   "id": "91e39f25",
   "metadata": {},
   "source": [
    "2.合并项可以考虑放到所有if else的最后，如果所有case都适用的话"
   ]
  },
  {
   "cell_type": "markdown",
   "id": "f9b6ad4d",
   "metadata": {},
   "source": [
    "3.Linked List两个的时候，一个不存在的时候，可以用0来代替省略"
   ]
  },
  {
   "cell_type": "markdown",
   "id": "55668bca",
   "metadata": {},
   "source": [
    "4.加法要进位的时候，可以考虑//10来节省空间"
   ]
  },
  {
   "cell_type": "markdown",
   "id": "d3d2a97f",
   "metadata": {},
   "source": []
  }
 ],
 "metadata": {
  "kernelspec": {
   "display_name": "Python 3 (ipykernel)",
   "language": "python",
   "name": "python3"
  },
  "language_info": {
   "codemirror_mode": {
    "name": "ipython",
    "version": 3
   },
   "file_extension": ".py",
   "mimetype": "text/x-python",
   "name": "python",
   "nbconvert_exporter": "python",
   "pygments_lexer": "ipython3",
   "version": "3.9.7"
  }
 },
 "nbformat": 4,
 "nbformat_minor": 5
}
